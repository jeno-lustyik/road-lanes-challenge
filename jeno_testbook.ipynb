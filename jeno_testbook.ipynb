{
 "cells": [
  {
   "cell_type": "code",
   "execution_count": 2,
   "metadata": {
    "collapsed": true
   },
   "outputs": [],
   "source": [
    "import cv2 as cv\n",
    "import numpy as np\n",
    "from matplotlib import pyplot as plt"
   ]
  },
  {
   "cell_type": "code",
   "execution_count": 92,
   "outputs": [],
   "source": [
    "im = cv.imread('test_images/whiteCarLaneSwitch.jpg')\n",
    "img = cv.cvtColor(im, cv.COLOR_BGR2GRAY)"
   ],
   "metadata": {
    "collapsed": false,
    "pycharm": {
     "name": "#%%\n"
    }
   }
  },
  {
   "cell_type": "code",
   "execution_count": 134,
   "outputs": [
    {
     "data": {
      "text/plain": "-1"
     },
     "execution_count": 134,
     "metadata": {},
     "output_type": "execute_result"
    }
   ],
   "source": [
    "img_copy = img.copy()\n",
    "h = img.shape[0]\n",
    "w = img.shape[1]\n",
    "mw = int(w/2)\n",
    "polygon = np.array([[[w, h], [int(w / 2 + w * 0.08), int(h * 0.6)], [int(w / 2 - w * 0.08), int(h * 0.6)], [int(w - w * 0.82), h]]])\n",
    "mask = np.zeros_like(img_copy)\n",
    "mask = cv.fillPoly(mask, polygon, 255)\n",
    "\n",
    "blur = cv.GaussianBlur(img_copy, (5, 5), 0)\n",
    "edges = cv.Canny(blur, 50, 150)\n",
    "\n",
    "match = cv.bitwise_and(edges, mask)\n",
    "\n",
    "\n",
    "cv.imshow('siu', match)\n",
    "cv.waitKey(0)\n",
    "cv.destroyAllWindows()\n",
    "cv.waitKey(1)"
   ],
   "metadata": {
    "collapsed": false,
    "pycharm": {
     "name": "#%%\n"
    }
   }
  },
  {
   "cell_type": "code",
   "execution_count": 135,
   "outputs": [
    {
     "data": {
      "text/plain": "array([[[195, 538, 469, 324]],\n\n       [[176, 539, 462, 324]],\n\n       [[504, 324, 863, 539]],\n\n       [[509, 324, 883, 539]],\n\n       [[378, 389, 464, 324]],\n\n       [[509, 325, 863, 538]]], dtype=int32)"
     },
     "execution_count": 135,
     "metadata": {},
     "output_type": "execute_result"
    }
   ],
   "source": [
    "lines = cv.HoughLinesP(match, 2, np.pi / 180, 100, np.array([]), minLineLength=1, maxLineGap=100)\n",
    "lines"
   ],
   "metadata": {
    "collapsed": false,
    "pycharm": {
     "name": "#%%\n"
    }
   }
  },
  {
   "cell_type": "code",
   "execution_count": 136,
   "outputs": [
    {
     "data": {
      "text/plain": "-1"
     },
     "execution_count": 136,
     "metadata": {},
     "output_type": "execute_result"
    }
   ],
   "source": [
    "img_lines = im.copy()\n",
    "\n",
    "for i in range(len(lines)):\n",
    "    for x1, y1, x2, y2 in lines[i]:\n",
    "        cv.line(img_lines, (x1, y1), (x2, y2), (0, 0, 255), 2)\n",
    "cv.imshow('siu', img_lines)\n",
    "cv.waitKey(0)\n",
    "cv.destroyAllWindows()\n",
    "cv.waitKey(1)"
   ],
   "metadata": {
    "collapsed": false,
    "pycharm": {
     "name": "#%%\n"
    }
   }
  },
  {
   "cell_type": "code",
   "execution_count": null,
   "outputs": [],
   "source": [],
   "metadata": {
    "collapsed": false,
    "pycharm": {
     "name": "#%%\n"
    }
   }
  }
 ],
 "metadata": {
  "kernelspec": {
   "display_name": "Python 3",
   "language": "python",
   "name": "python3"
  },
  "language_info": {
   "codemirror_mode": {
    "name": "ipython",
    "version": 2
   },
   "file_extension": ".py",
   "mimetype": "text/x-python",
   "name": "python",
   "nbconvert_exporter": "python",
   "pygments_lexer": "ipython2",
   "version": "2.7.6"
  }
 },
 "nbformat": 4,
 "nbformat_minor": 0
}