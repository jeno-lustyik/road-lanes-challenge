{
 "cells": [
  {
   "cell_type": "code",
   "execution_count": 2,
   "metadata": {
    "collapsed": true
   },
   "outputs": [],
   "source": [
    "import cv2 as cv\n",
    "import numpy as np\n",
    "from matplotlib import pyplot as plt"
   ]
  },
  {
   "cell_type": "code",
   "execution_count": 92,
   "outputs": [],
   "source": [
    "im = cv.imread('test_images/whiteCarLaneSwitch.jpg')\n",
    "img = cv.cvtColor(im, cv.COLOR_BGR2GRAY)"
   ],
   "metadata": {
    "collapsed": false,
    "pycharm": {
     "name": "#%%\n"
    }
   }
  },
  {
   "cell_type": "code",
   "execution_count": 116,
   "outputs": [
    {
     "data": {
      "text/plain": "-1"
     },
     "execution_count": 116,
     "metadata": {},
     "output_type": "execute_result"
    }
   ],
   "source": [
    "img_copy = img.copy()\n",
    "h = img.shape[0]\n",
    "w = img.shape[1]\n",
    "mw = int(w/2)\n",
    "polygon = np.array([[[w, h], [mw, int(h*0.55)], [int(w-w*0.8), h]]])\n",
    "mask = np.zeros_like(img_copy)\n",
    "mask = cv.fillPoly(mask, polygon, 255)\n",
    "\n",
    "blur = cv.GaussianBlur(img_copy, (5, 5), 0)\n",
    "edges = cv.Canny(blur, 50, 150)\n",
    "\n",
    "match = cv.bitwise_and(edges, mask)\n",
    "\n",
    "\n",
    "cv.imshow('siu', match)\n",
    "cv.waitKey(0)\n",
    "cv.destroyAllWindows()\n",
    "cv.waitKey(1)"
   ],
   "metadata": {
    "collapsed": false,
    "pycharm": {
     "name": "#%%\n"
    }
   }
  },
  {
   "cell_type": "code",
   "execution_count": 109,
   "outputs": [
    {
     "data": {
      "text/plain": "array([[[197, 538, 287, 467]],\n\n       [[476, 303, 505, 321]],\n\n       [[743, 466, 865, 539]],\n\n       [[424, 356, 485, 307]],\n\n       [[291, 462, 419, 362]],\n\n       [[752, 465, 884, 538]],\n\n       [[506, 323, 567, 358]],\n\n       [[334, 420, 407, 368]],\n\n       [[289, 464, 349, 418]],\n\n       [[472, 307, 492, 318]],\n\n       [[424, 360, 457, 334]],\n\n       [[649, 407, 655, 410]],\n\n       [[582, 370, 603, 382]],\n\n       [[479, 310, 554, 352]],\n\n       [[246, 498, 301, 455]],\n\n       [[357, 402, 418, 360]],\n\n       [[194, 539, 321, 440]],\n\n       [[584, 368, 607, 380]],\n\n       [[417, 365, 434, 351]],\n\n       [[402, 370, 430, 351]],\n\n       [[743, 467, 861, 538]],\n\n       [[754, 465, 816, 499]],\n\n       [[468, 307, 485, 316]],\n\n       [[441, 348, 443, 346]],\n\n       [[444, 341, 456, 331]]], dtype=int32)"
     },
     "execution_count": 109,
     "metadata": {},
     "output_type": "execute_result"
    }
   ],
   "source": [
    "lines = cv.HoughLinesP(match, 4, np.pi/180, 100, np.array([]), minLineLength=2, maxLineGap=10)\n",
    "lines"
   ],
   "metadata": {
    "collapsed": false,
    "pycharm": {
     "name": "#%%\n"
    }
   }
  },
  {
   "cell_type": "code",
   "execution_count": 112,
   "outputs": [
    {
     "data": {
      "text/plain": "-1"
     },
     "execution_count": 112,
     "metadata": {},
     "output_type": "execute_result"
    }
   ],
   "source": [
    "img_lines = im.copy()\n",
    "\n",
    "for i in range(len(lines)):\n",
    "    for x1, y1, x2, y2 in lines[i]:\n",
    "        cv.line(img_lines, (x1, y1), (x2, y2), (0, 0, 255), 2)\n",
    "cv.imshow('siu', img_lines)\n",
    "cv.waitKey(0)\n",
    "cv.destroyAllWindows()\n",
    "cv.waitKey(1)"
   ],
   "metadata": {
    "collapsed": false,
    "pycharm": {
     "name": "#%%\n"
    }
   }
  },
  {
   "cell_type": "code",
   "execution_count": null,
   "outputs": [],
   "source": [],
   "metadata": {
    "collapsed": false,
    "pycharm": {
     "name": "#%%\n"
    }
   }
  }
 ],
 "metadata": {
  "kernelspec": {
   "display_name": "Python 3",
   "language": "python",
   "name": "python3"
  },
  "language_info": {
   "codemirror_mode": {
    "name": "ipython",
    "version": 2
   },
   "file_extension": ".py",
   "mimetype": "text/x-python",
   "name": "python",
   "nbconvert_exporter": "python",
   "pygments_lexer": "ipython2",
   "version": "2.7.6"
  }
 },
 "nbformat": 4,
 "nbformat_minor": 0
}